{
 "cells": [
  {
   "cell_type": "code",
   "execution_count": 1,
   "id": "d66ea84a-712b-4b27-aa97-c606bc97b715",
   "metadata": {},
   "outputs": [],
   "source": [
    "import pandas as pd "
   ]
  },
  {
   "cell_type": "code",
   "execution_count": 2,
   "id": "2b95bdec-2300-44dd-8c0e-efcab79b735c",
   "metadata": {},
   "outputs": [
    {
     "name": "stdout",
     "output_type": "stream",
     "text": [
      "  Brand  Price  Year\n",
      "0    HH  22000  2015\n",
      "1    TT  25000  2013\n",
      "2    FF  27000  2018\n",
      "3    AA  35000  2018\n"
     ]
    }
   ],
   "source": [
    "data = {'Brand': ['HH','TT','FF','AA'],\n",
    "        'Price': [22000,25000,27000,35000],\n",
    "        'Year': [2015,2013,2018,2018]\n",
    "        }\n",
    " \n",
    "df = pd.DataFrame(data, columns=['Brand','Price','Year'])\n",
    "\n",
    "print (df)"
   ]
  },
  {
   "cell_type": "code",
   "execution_count": 4,
   "id": "a12467b0-ee65-4e16-bc40-95bbc9a1aef6",
   "metadata": {},
   "outputs": [
    {
     "name": "stdout",
     "output_type": "stream",
     "text": [
      "  Brand  Price  Year\n",
      "3    AA  35000  2018\n",
      "2    FF  27000  2018\n",
      "0    HH  22000  2015\n",
      "1    TT  25000  2013\n"
     ]
    }
   ],
   "source": [
    "#sorting dataframe\n",
    "df.sort_values(by=['Brand'], inplace=True)\n",
    "print (df)"
   ]
  },
  {
   "cell_type": "markdown",
   "id": "f31456c3-4c02-49ee-bf97-f235824c087c",
   "metadata": {},
   "source": [
    "#Iterating over rows of DataFrame"
   ]
  },
  {
   "cell_type": "code",
   "execution_count": 5,
   "id": "d11acedf-80ac-4f71-8a94-f464a7f64fba",
   "metadata": {},
   "outputs": [
    {
     "name": "stdout",
     "output_type": "stream",
     "text": [
      "Given Dataframe :\n",
      "     Name  Age   Stream  Percentage\n",
      "0    Ali   21     Math          88\n",
      "1  Ahmed   19     Arts          92\n",
      "2   Alaa   20  Biology          95\n",
      "\n",
      "Iterating over rows using index attribute :\n",
      "\n",
      "Ali Math\n",
      "Ahmed Arts\n",
      "Alaa Biology\n"
     ]
    }
   ],
   "source": [
    "#Using index attribute of the Dataframe \n",
    "\n",
    "data = {'Name': ['Ali', 'Ahmed', 'Alaa'],\n",
    "                'Age': [21, 19, 20],\n",
    "                'Stream': ['Math' , 'Arts', 'Biology'],\n",
    "                'Percentage': [88, 92, 95]}\n",
    "  \n",
    "# Convert the dictionary into DataFrame\n",
    "df = pd.DataFrame(data, columns = ['Name', 'Age', 'Stream', 'Percentage'])\n",
    "  \n",
    "print(\"Given Dataframe :\\n\", df)\n",
    "  \n",
    "print(\"\\nIterating over rows using index attribute :\\n\")\n",
    "  \n",
    "# iterate through each row and select \n",
    "# 'Name' and 'Stream' column respectively.\n",
    "for ind in df.index:\n",
    "     print(df['Name'][ind], df['Stream'][ind])"
   ]
  },
  {
   "cell_type": "code",
   "execution_count": 6,
   "id": "2c39ce99-346c-4d0e-9ed9-81409df02d51",
   "metadata": {},
   "outputs": [
    {
     "name": "stdout",
     "output_type": "stream",
     "text": [
      "Given Dataframe :\n",
      "     Name  Age   Stream  Percentage\n",
      "0    Ali   21     Math          88\n",
      "1  Ahmed   19     Arts          92\n",
      "2   Alaa   20  Biology          95\n",
      "\n",
      "Iterating over rows using loc function :\n",
      "\n",
      "Ali 21\n",
      "Ahmed 19\n",
      "Alaa 20\n"
     ]
    }
   ],
   "source": [
    "#Using loc[] function of the Dataframe.\n",
    "data = {'Name': ['Ali', 'Ahmed', 'Alaa'],\n",
    "                'Age': [21, 19, 20],\n",
    "                'Stream': ['Math' , 'Arts', 'Biology'],\n",
    "                'Percentage': [88, 92, 95]}\n",
    "# Convert the dictionary into DataFrame\n",
    "df = pd.DataFrame(data, columns = ['Name', 'Age', 'Stream', 'Percentage'])\n",
    "  \n",
    "print(\"Given Dataframe :\\n\", df)\n",
    "  \n",
    "print(\"\\nIterating over rows using loc function :\\n\")\n",
    "  \n",
    "# iterate through each row and select \n",
    "# 'Name' and 'Age' column respectively.\n",
    "for i in range(len(df)) :\n",
    "  print(df.loc[i, \"Name\"], df.loc[i, \"Age\"])"
   ]
  },
  {
   "cell_type": "code",
   "execution_count": 7,
   "id": "5fd28646-dbef-4c22-8227-6b1a6863c5a7",
   "metadata": {},
   "outputs": [
    {
     "name": "stdout",
     "output_type": "stream",
     "text": [
      "Given Dataframe :\n",
      "     Name  Age   Stream  Percentage\n",
      "0    Ali   21     Math          88\n",
      "1  Ahmed   19     Arts          92\n",
      "2   Alaa   20  Biology          95\n",
      "\n",
      "Iterating over rows using iloc function :\n",
      "\n",
      "Ali Math\n",
      "Ahmed Arts\n",
      "Alaa Biology\n"
     ]
    }
   ],
   "source": [
    "#Using iloc[] function of the DataFrame.\n",
    "data = {'Name': ['Ali', 'Ahmed', 'Alaa'],\n",
    "                'Age': [21, 19, 20],\n",
    "                'Stream': ['Math' , 'Arts', 'Biology'],\n",
    "                'Percentage': [88, 92, 95]}\n",
    "# Convert the dictionary into DataFrame\n",
    "df = pd.DataFrame(data, columns = ['Name', 'Age', 'Stream', 'Percentage'])\n",
    "  \n",
    "print(\"Given Dataframe :\\n\", df)\n",
    "  \n",
    "print(\"\\nIterating over rows using iloc function :\\n\")\n",
    "  \n",
    "# iterate through each row and select \n",
    "# 0th and 2nd index column respectively.\n",
    "for i in range(len(df)) :\n",
    "  print(df.iloc[i, 0], df.iloc[i, 2])"
   ]
  },
  {
   "cell_type": "code",
   "execution_count": null,
   "id": "0e8d66a5-b3d8-4b37-871a-249d8c2360d3",
   "metadata": {},
   "outputs": [],
   "source": []
  }
 ],
 "metadata": {
  "kernelspec": {
   "display_name": "Python 3",
   "language": "python",
   "name": "python3"
  },
  "language_info": {
   "codemirror_mode": {
    "name": "ipython",
    "version": 3
   },
   "file_extension": ".py",
   "mimetype": "text/x-python",
   "name": "python",
   "nbconvert_exporter": "python",
   "pygments_lexer": "ipython3",
   "version": "3.7.8"
  }
 },
 "nbformat": 4,
 "nbformat_minor": 5
}
